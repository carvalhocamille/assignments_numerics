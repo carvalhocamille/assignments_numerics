{
 "cells": [
  {
   "cell_type": "markdown",
   "metadata": {},
   "source": [
    "# Structure code for reuse"
   ]
  },
  {
   "cell_type": "markdown",
   "metadata": {},
   "source": [
    "In the previous assignment we saw to write Python code for numerical methods. Today we'll see how to package and distribute this code for easy reuse across project, and how to make sure there is no regressions.\n",
    "\n",
    "To do so we'll use a simple package made by Thomas  Kluyver called flit, and will see some opinionated but easy to start way of making a python package. "
   ]
  },
  {
   "cell_type": "markdown",
   "metadata": {},
   "source": [
    "## Installing flit"
   ]
  },
  {
   "cell_type": "markdown",
   "metadata": {},
   "source": [
    "We'll start by installing [flit](https://flit.readthedocs.io) using the following in a terminal. \n",
    "If you are using Conda: \n",
    "\n",
    "```bash\n",
    "$ conda install flit\n",
    "```\n",
    "\n",
    "Otherwise you may use pip:\n",
    "\n",
    "```bash\n",
    "$ pip install flit\n",
    "```"
   ]
  },
  {
   "cell_type": "markdown",
   "metadata": {},
   "source": [
    "We'll separate our new package in it's own git repo:\n",
    "\n",
    "```\n",
    "$ cd ..\n",
    "$ mkdir math_131_py\n",
    "$ cd math_131_py\n",
    "$ git init\n",
    "```\n",
    "\n"
   ]
  },
  {
   "cell_type": "markdown",
   "metadata": {},
   "source": [
    "Now we'll create a package. To do so we'll create a folder named with the name of our import with a `__init__.py` file in it. \n",
    "\n",
    "```\n",
    "$ mkdir math_131_2018\n",
    "$ touch math_131_2018/__init__.py\n",
    "```\n",
    "\n",
    "Edit the `__init__.py` file to contain a desciption at the top in a multiline string, \n",
    "and add `__version__`"
   ]
  },
  {
   "cell_type": "code",
   "execution_count": 1,
   "metadata": {},
   "outputs": [
    {
     "data": {
      "text/plain": [
       "'/Users/bussonniermatthias/dev/assignments_numerics'"
      ]
     },
     "execution_count": 1,
     "metadata": {},
     "output_type": "execute_result"
    }
   ],
   "source": []
  },
  {
   "cell_type": "code",
   "execution_count": null,
   "metadata": {},
   "outputs": [],
   "source": []
  }
 ],
 "metadata": {
  "kernelspec": {
   "display_name": "Python 3",
   "language": "python",
   "name": "python3"
  },
  "language_info": {
   "codemirror_mode": {
    "name": "ipython",
    "version": 3
   },
   "file_extension": ".py",
   "mimetype": "text/x-python",
   "name": "python",
   "nbconvert_exporter": "python",
   "pygments_lexer": "ipython3",
   "version": "3.6.3"
  }
 },
 "nbformat": 4,
 "nbformat_minor": 2
}
